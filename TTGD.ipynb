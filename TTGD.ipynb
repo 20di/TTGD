{
 "cells": [
  {
   "cell_type": "markdown",
   "metadata": {},
   "source": [
    "### Install dependencies and Mount Gdrive"
   ]
  },
  {
   "cell_type": "code",
   "execution_count": null,
   "metadata": {},
   "outputs": [],
   "source": [
    "#Install libretorrent for python\n",
    "!apt install python3-libtorrent\n",
    "!pip3 install lbry-libtorrent\n",
    "\n",
    "#mount Gdrive\n",
    "from google.colab import drive\n",
    "drive.mount('/content/drive')"
   ]
  },
  {
   "cell_type": "markdown",
   "metadata": {},
   "source": [
    "### Downloader"
   ]
  },
  {
   "cell_type": "code",
   "execution_count": null,
   "metadata": {},
   "outputs": [],
   "source": [
    "import libtorrent as lt\n",
    "import time, os, shutil, re, string\n",
    "\n",
    "#torrent download path\n",
    "TDPATH = \"Work_space/DTORRENT/\"\n",
    "#use to remove all unwanted char from strings\n",
    "chars = re.escape(string.punctuation)\n",
    "\n",
    "#greeter\n",
    "print(\"##############################################################\")\n",
    "print(\"##                                                          ##\")\n",
    "print(\"##  TTTTTTTTTTTT  TTTTTTTTTTTT  GGGGGGGGGGGG  DDDDDDDDDD    ##\")\n",
    "print(\"##       TT            TT       GG            DD        DD  ##\")\n",
    "print(\"##       TT            TT       GG  GGGGGGGG  DD        DD  ##\")\n",
    "print(\"##       TT            TT       GG        GG  DD        DD  ##\")\n",
    "print(\"##       TT            TT       GG        GG  DD        DD  ##\")\n",
    "print(\"##       TT            TT       GG        GG  DD        DD  ##\")\n",
    "print(\"##       TT            TT       GGGGGGGGGGGG  DDDDDDDDDD    ##\")\n",
    "print(\"##                                                          ##\")\n",
    "print(\"##############################################################\")\n",
    "\n",
    "print(\"Waiting for your input... :)\")\n",
    "\n",
    "#downloader\n",
    "link = input(\"Paste a magnet link and hit enter:\")\n",
    "SES = lt.session()\n",
    "SES.listen_on(6881, 6891)\n",
    "params = {\n",
    "    'save_path': TDPATH,\n",
    "    'storage_mode': lt.storage_mode_t(2),\n",
    "    }\n",
    "handle = lt.add_magnet_uri(SES, link, params)\n",
    "SES.start_dht()\n",
    "\n",
    "print(\"downloading metadata...\")\n",
    "while (not handle.has_metadata()):\n",
    "    time.sleep(1)\n",
    "pName = str(handle.status().name)\n",
    "print(f\"got metadata, {pName} downloading started...\")\n",
    "while handle.status().state != lt.torrent_status.seeding:\n",
    "    s = handle.status()\n",
    "    state_str = ['queued', 'checking', 'downloading metadata',\n",
    "                 'downloading', 'finished', 'seeding', 'allocating']\n",
    "    print('%.2f%% complete (down: %.1f kb/s up: %.1f kB/s peers: %d) %s ' %\n",
    "          (s.progress * 100, s.download_rate / 1000, s.upload_rate / 1000,\n",
    "           s.num_peers, state_str[s.state]))\n",
    "    time.sleep(5)\n",
    "\n",
    "#archiving moving files\n",
    "name = str(re.sub(r'['+chars+']', '',(pName.encode(\"ascii\", \"ignore\")).decode())).replace(\" \", \"_\")\n",
    "print(f\"{name} Downloading completed...\\nAdding files to an archive...\")\n",
    "\n",
    "time.sleep(5)\n",
    "shutil.move(f\"Work_space/DTORRENT/{pName}\", f\"Work_space/DTORRENT/{name}\")\n",
    "shutil.make_archive(f\"Work_space/CTORRENT/{name}\", \"tar\", f\"Work_space/DTORRENT/{name}\")\n",
    "time.sleep(5)\n",
    "print(\"Moving archive to Gdrive...\")\n",
    "os.system(f\"mv Work_space/CTORRENT/{name}.tar drive/MyDrive/{name}.tar\")\n",
    "print(\"Cleaning the disk...\")\n",
    "shutil.rmtree(f\"Work_space/DTORRENT/{name}\", ignore_errors=True)\n",
    "time.sleep(5)\n",
    "\n",
    "print(\"All done... Check you Gdrive... :)\")\n",
    "print(\"If you are done for today, Please make sure to disconnect and delete runtime before leaving... :*\")"
   ]
  },
  {
   "cell_type": "markdown",
   "metadata": {},
   "source": [
    "### Something went wrong in the above code, Run this :)"
   ]
  },
  {
   "cell_type": "code",
   "execution_count": null,
   "metadata": {},
   "outputs": [],
   "source": [
    "!rm -r Work_space/CTORRENT/*\n",
    "!rm -r Work_space/DTORRENT/*"
   ]
  },
  {
   "cell_type": "markdown",
   "metadata": {},
   "source": [
    "### Please make sure to disconnect and delete runtime before you leave here"
   ]
  }
 ],
 "metadata": {
  "interpreter": {
   "hash": "916dbcbb3f70747c44a77c7bcd40155683ae19c65e1c03b4aa3499c5328201f1"
  },
  "kernelspec": {
   "display_name": "Python 3.10.4 64-bit",
   "language": "python",
   "name": "python3"
  },
  "language_info": {
   "name": "python",
   "version": "3.10.4"
  },
  "orig_nbformat": 4
 },
 "nbformat": 4,
 "nbformat_minor": 2
}
